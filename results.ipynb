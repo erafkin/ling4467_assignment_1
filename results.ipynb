{
 "cells": [
  {
   "cell_type": "code",
   "execution_count": null,
   "id": "901eb842",
   "metadata": {},
   "outputs": [],
   "source": [
    "import pandas as pd\n",
    "answers = pd.read_csv(\"./output/answers.csv\")\n",
    "specs = pd.read_csv(\"./output/model_specs.csv\")\n",
    "answers.model_name.unique()\n"
   ]
  },
  {
   "cell_type": "code",
   "execution_count": null,
   "id": "d2be3fdc",
   "metadata": {},
   "outputs": [],
   "source": [
    "from matplotlib import pyplot as plt\n",
    "from matplotlib import patches as mpatches\n",
    "colors = {\"api\": 'r', \"local\": 'b'}\n",
    "handles = [mpatches.Patch(color=colors[i]) for i in colors]\n",
    "labels = [i for i in colors]\n",
    "specs.plot.bar(x=\"name\", y=\"mean_answer_time\", rot=45,ylabel=\"Mean Answer Time\",xlabel=\"Name\",title=\"Mean Latency\",\n",
    "               color=[colors[i] for i in specs['source']])\n",
    "plt.legend(handles, labels)\n",
    "\n",
    "specs\n"
   ]
  },
  {
   "cell_type": "code",
   "execution_count": null,
   "id": "8e024476",
   "metadata": {},
   "outputs": [],
   "source": [
    "answers['answer_len'] = answers['answer'].apply(len)"
   ]
  },
  {
   "cell_type": "code",
   "execution_count": null,
   "id": "ee4001c3",
   "metadata": {},
   "outputs": [],
   "source": [
    "answers.model_name.describe()"
   ]
  },
  {
   "cell_type": "code",
   "execution_count": null,
   "id": "db1060b5",
   "metadata": {},
   "outputs": [],
   "source": [
    "import matplotlib.pyplot as plt\n",
    "lens_by_model = answers.sort_values(by=['model_name', 'answer_len']).groupby('model_name')['answer_len'].apply(list)\n",
    "cpu_by_model = answers.sort_values(by=['model_name', 'answer_len']).groupby('model_name')['cpu'].apply(list)\n",
    "print(lens_by_model.keys())\n",
    "for idx, val in enumerate(cpu_by_model.values):\n",
    "    x1 = lens_by_model.values[idx]\n",
    "    y1 = val\n",
    "    plt.plot(x1, y1, label=lens_by_model.keys()[idx])\n",
    "\n",
    "\n",
    "# Add labels and a title\n",
    "plt.xlabel(\"Response Length\")\n",
    "plt.ylabel(\"CPU (%)\")\n",
    "plt.title(\"CPU by Response Length\")\n",
    "plt.xscale('log')\n",
    "# Add a legend to differentiate the lines\n",
    "plt.legend()\n",
    "\n",
    "# Display the plot\n",
    "plt.show()"
   ]
  },
  {
   "cell_type": "code",
   "execution_count": null,
   "id": "e0901c46",
   "metadata": {},
   "outputs": [],
   "source": [
    "import matplotlib.pyplot as plt\n",
    "import numpy as np\n",
    "lens_by_model = answers.sort_values(by=['model_name', 'answer_len']).groupby('model_name')['answer_len'].apply(list)\n",
    "gpu_by_model = answers.sort_values(by=['model_name', 'answer_len']).groupby('model_name')['gpu'].apply(list)\n",
    "for idx, val in enumerate(gpu_by_model.values):\n",
    "    if gpu_by_model.keys()[idx] != \"gpt-oss\": # GPT-OSS was called first while the GPU was cooling down.\n",
    "\n",
    "        if np.mean(val) >0:\n",
    "            x1 = lens_by_model.values[idx]\n",
    "            y1 = val\n",
    "            plt.plot(x1, y1, label=lens_by_model.keys()[idx])\n",
    "\n",
    "\n",
    "# Add labels and a title\n",
    "plt.xlabel(\"Response Length\")\n",
    "plt.ylabel(\"GPU (%)\")\n",
    "plt.title(\"GPU by Response Length\")\n",
    "plt.xscale('log')\n",
    "# Add a legend to differentiate the lines\n",
    "plt.legend()\n",
    "\n",
    "# Display the plot\n",
    "plt.show()"
   ]
  },
  {
   "cell_type": "code",
   "execution_count": null,
   "id": "e1249081",
   "metadata": {},
   "outputs": [],
   "source": [
    "import matplotlib.pyplot as plt\n",
    "import numpy as np\n",
    "lens_by_model = answers.sort_values(by=['model_name', 'answer_len']).groupby('model_name')['answer_len'].apply(list)\n",
    "memory_by_model = answers.sort_values(by=['model_name', 'answer_len']).groupby('model_name')['memory'].apply(list)\n",
    "for idx, val in enumerate(memory_by_model.values):\n",
    "    if memory_by_model.keys()[idx] != \"gpt-oss\":\n",
    "        if np.mean(val) >0:\n",
    "            x1 = lens_by_model.values[idx]\n",
    "            y1 = val\n",
    "            plt.plot(x1, y1, label=lens_by_model.keys()[idx])\n",
    "\n",
    "\n",
    "# Add labels and a title\n",
    "plt.xlabel(\"Response Length\")\n",
    "plt.ylabel(\"Memory (%)\")\n",
    "plt.title(\"Memory by Response Length\")\n",
    "plt.xscale('log')\n",
    "# Add a legend to differentiate the lines\n",
    "plt.legend()\n",
    "\n",
    "# Display the plot\n",
    "plt.show()"
   ]
  },
  {
   "cell_type": "code",
   "execution_count": null,
   "id": "08705ac9",
   "metadata": {},
   "outputs": [],
   "source": [
    "import matplotlib.pyplot as plt\n",
    "import numpy as np\n",
    "lens_by_model = answers.sort_values(by=['model_name', 'answer_len']).groupby('model_name')['answer_len'].apply(list)\n",
    "time_by_model = answers.sort_values(by=['model_name', 'answer_len']).groupby('model_name')['time'].apply(list)\n",
    "for idx, val in enumerate(time_by_model.values):\n",
    "    val_nums = [float(v) for v in val]\n",
    "    if np.mean(val_nums) >0:\n",
    "        x1 = lens_by_model.values[idx]\n",
    "        y1 = val_nums\n",
    "        plt.plot(x1, y1, label=lens_by_model.keys()[idx])\n",
    "\n",
    "\n",
    "# Add labels and a title\n",
    "plt.xlabel(\"Response Length\")\n",
    "plt.ylabel(\"Response Time (s)\")\n",
    "plt.title(\"Response Time by Response Length\")\n",
    "plt.xscale('log')\n",
    "# Add a legend to differentiate the lines\n",
    "plt.legend()\n",
    "\n",
    "# Display the plot\n",
    "plt.show()"
   ]
  },
  {
   "cell_type": "code",
   "execution_count": null,
   "id": "e6060174",
   "metadata": {},
   "outputs": [
    {
     "name": "stdout",
     "output_type": "stream",
     "text": [
      "[(nan, nan), ('fleurs', 'whisper-large-v3-turbo'), ('librispeech', 'distil-large-v3.5'), ('librispeech', 'whisper-medium'), ('local', 'whisper-small'), ('librispeech', 'whisper-tiny'), ('fleurs', 'whisper-tiny'), ('fleurs', 'distil-large-v2'), ('librispeech', 'whisper-large-v3-turbo'), ('local', 'whisper-medium'), ('local', 'whisper-tiny'), ('librispeech', 'whisper-tiny.en'), ('fleurs', 'whisper-small'), ('local', 'distil-large-v2'), ('local', 'distil-large-v3.5'), ('local', 'whisper-large-v3-turbo'), ('fleurs', 'whisper-medium'), ('fleurs', 'whisper-base'), ('fleurs', 'distil-large-v3.5'), ('librispeech', 'whisper-base'), ('local', 'whisper-base'), ('fleurs', 'whisper-tiny.en'), ('librispeech', 'whisper-small'), ('local', 'whisper-tiny.en'), ('librispeech', 'distil-large-v2')]\n"
     ]
    },
    {
     "ename": "ValueError",
     "evalue": "Length mismatch: Expected axis has 24 elements, new values have 25 elements",
     "output_type": "error",
     "traceback": [
      "\u001b[31m---------------------------------------------------------------------------\u001b[39m",
      "\u001b[31mValueError\u001b[39m                                Traceback (most recent call last)",
      "\u001b[36mCell\u001b[39m\u001b[36m \u001b[39m\u001b[32mIn[2]\u001b[39m\u001b[32m, line 50\u001b[39m\n\u001b[32m     45\u001b[39m \u001b[38;5;28mprint\u001b[39m(col_tuples)\n\u001b[32m     47\u001b[39m \u001b[38;5;66;03m# -----------------------------------------------------------------\u001b[39;00m\n\u001b[32m     48\u001b[39m \u001b[38;5;66;03m# 3.4  Apply the MultiIndex to the *data* dataframe\u001b[39;00m\n\u001b[32m     49\u001b[39m \u001b[38;5;66;03m# -----------------------------------------------------------------\u001b[39;00m\n\u001b[32m---> \u001b[39m\u001b[32m50\u001b[39m \u001b[43mdata_rows\u001b[49m\u001b[43m.\u001b[49m\u001b[43mcolumns\u001b[49m = pd.MultiIndex.from_tuples(col_tuples)\n\u001b[32m     52\u001b[39m \u001b[38;5;66;03m# -----------------------------------------------------------------\u001b[39;00m\n\u001b[32m     53\u001b[39m \u001b[38;5;66;03m# 3.5  Quick sanity‑check – print the resulting df\u001b[39;00m\n\u001b[32m     54\u001b[39m \u001b[38;5;66;03m# -----------------------------------------------------------------\u001b[39;00m\n\u001b[32m     55\u001b[39m \u001b[38;5;28mprint\u001b[39m(\u001b[33m\"\u001b[39m\u001b[38;5;130;01m\\n\u001b[39;00m\u001b[33m=== DataFrame with a proper MultiIndex header ===\u001b[39m\u001b[33m\"\u001b[39m)\n",
      "\u001b[36mFile \u001b[39m\u001b[32m~/Desktop/ling4467_assignment_1/venv/lib/python3.11/site-packages/pandas/core/generic.py:6332\u001b[39m, in \u001b[36mNDFrame.__setattr__\u001b[39m\u001b[34m(self, name, value)\u001b[39m\n\u001b[32m   6330\u001b[39m \u001b[38;5;28;01mtry\u001b[39;00m:\n\u001b[32m   6331\u001b[39m     \u001b[38;5;28mobject\u001b[39m.\u001b[34m__getattribute__\u001b[39m(\u001b[38;5;28mself\u001b[39m, name)\n\u001b[32m-> \u001b[39m\u001b[32m6332\u001b[39m     \u001b[38;5;28;01mreturn\u001b[39;00m \u001b[38;5;28;43mobject\u001b[39;49m\u001b[43m.\u001b[49m\u001b[34;43m__setattr__\u001b[39;49m\u001b[43m(\u001b[49m\u001b[38;5;28;43mself\u001b[39;49m\u001b[43m,\u001b[49m\u001b[43m \u001b[49m\u001b[43mname\u001b[49m\u001b[43m,\u001b[49m\u001b[43m \u001b[49m\u001b[43mvalue\u001b[49m\u001b[43m)\u001b[49m\n\u001b[32m   6333\u001b[39m \u001b[38;5;28;01mexcept\u001b[39;00m \u001b[38;5;167;01mAttributeError\u001b[39;00m:\n\u001b[32m   6334\u001b[39m     \u001b[38;5;28;01mpass\u001b[39;00m\n",
      "\u001b[36mFile \u001b[39m\u001b[32mpandas/_libs/properties.pyx:69\u001b[39m, in \u001b[36mpandas._libs.properties.AxisProperty.__set__\u001b[39m\u001b[34m()\u001b[39m\n",
      "\u001b[36mFile \u001b[39m\u001b[32m~/Desktop/ling4467_assignment_1/venv/lib/python3.11/site-packages/pandas/core/generic.py:814\u001b[39m, in \u001b[36mNDFrame._set_axis\u001b[39m\u001b[34m(self, axis, labels)\u001b[39m\n\u001b[32m    809\u001b[39m \u001b[38;5;250m\u001b[39m\u001b[33;03m\"\"\"\u001b[39;00m\n\u001b[32m    810\u001b[39m \u001b[33;03mThis is called from the cython code when we set the `index` attribute\u001b[39;00m\n\u001b[32m    811\u001b[39m \u001b[33;03mdirectly, e.g. `series.index = [1, 2, 3]`.\u001b[39;00m\n\u001b[32m    812\u001b[39m \u001b[33;03m\"\"\"\u001b[39;00m\n\u001b[32m    813\u001b[39m labels = ensure_index(labels)\n\u001b[32m--> \u001b[39m\u001b[32m814\u001b[39m \u001b[38;5;28;43mself\u001b[39;49m\u001b[43m.\u001b[49m\u001b[43m_mgr\u001b[49m\u001b[43m.\u001b[49m\u001b[43mset_axis\u001b[49m\u001b[43m(\u001b[49m\u001b[43maxis\u001b[49m\u001b[43m,\u001b[49m\u001b[43m \u001b[49m\u001b[43mlabels\u001b[49m\u001b[43m)\u001b[49m\n\u001b[32m    815\u001b[39m \u001b[38;5;28mself\u001b[39m._clear_item_cache()\n",
      "\u001b[36mFile \u001b[39m\u001b[32m~/Desktop/ling4467_assignment_1/venv/lib/python3.11/site-packages/pandas/core/internals/managers.py:238\u001b[39m, in \u001b[36mBaseBlockManager.set_axis\u001b[39m\u001b[34m(self, axis, new_labels)\u001b[39m\n\u001b[32m    236\u001b[39m \u001b[38;5;28;01mdef\u001b[39;00m\u001b[38;5;250m \u001b[39m\u001b[34mset_axis\u001b[39m(\u001b[38;5;28mself\u001b[39m, axis: AxisInt, new_labels: Index) -> \u001b[38;5;28;01mNone\u001b[39;00m:\n\u001b[32m    237\u001b[39m     \u001b[38;5;66;03m# Caller is responsible for ensuring we have an Index object.\u001b[39;00m\n\u001b[32m--> \u001b[39m\u001b[32m238\u001b[39m     \u001b[38;5;28;43mself\u001b[39;49m\u001b[43m.\u001b[49m\u001b[43m_validate_set_axis\u001b[49m\u001b[43m(\u001b[49m\u001b[43maxis\u001b[49m\u001b[43m,\u001b[49m\u001b[43m \u001b[49m\u001b[43mnew_labels\u001b[49m\u001b[43m)\u001b[49m\n\u001b[32m    239\u001b[39m     \u001b[38;5;28mself\u001b[39m.axes[axis] = new_labels\n",
      "\u001b[36mFile \u001b[39m\u001b[32m~/Desktop/ling4467_assignment_1/venv/lib/python3.11/site-packages/pandas/core/internals/base.py:98\u001b[39m, in \u001b[36mDataManager._validate_set_axis\u001b[39m\u001b[34m(self, axis, new_labels)\u001b[39m\n\u001b[32m     95\u001b[39m     \u001b[38;5;28;01mpass\u001b[39;00m\n\u001b[32m     97\u001b[39m \u001b[38;5;28;01melif\u001b[39;00m new_len != old_len:\n\u001b[32m---> \u001b[39m\u001b[32m98\u001b[39m     \u001b[38;5;28;01mraise\u001b[39;00m \u001b[38;5;167;01mValueError\u001b[39;00m(\n\u001b[32m     99\u001b[39m         \u001b[33mf\u001b[39m\u001b[33m\"\u001b[39m\u001b[33mLength mismatch: Expected axis has \u001b[39m\u001b[38;5;132;01m{\u001b[39;00mold_len\u001b[38;5;132;01m}\u001b[39;00m\u001b[33m elements, new \u001b[39m\u001b[33m\"\u001b[39m\n\u001b[32m    100\u001b[39m         \u001b[33mf\u001b[39m\u001b[33m\"\u001b[39m\u001b[33mvalues have \u001b[39m\u001b[38;5;132;01m{\u001b[39;00mnew_len\u001b[38;5;132;01m}\u001b[39;00m\u001b[33m elements\u001b[39m\u001b[33m\"\u001b[39m\n\u001b[32m    101\u001b[39m     )\n",
      "\u001b[31mValueError\u001b[39m: Length mismatch: Expected axis has 24 elements, new values have 25 elements"
     ]
    }
   ],
   "source": [
    "import pandas as pd\n",
    "from io import StringIO\n",
    "\n",
    "# -----------------------------------------------------------------\n",
    "# 2.1  Either read from an actual file\n",
    "# -----------------------------------------------------------------\n",
    "# df_raw = pd.read_csv(\"your_file.csv\", header=None)\n",
    "\n",
    "# -----------------------------------------------------------------\n",
    "# 2.2  …or, for this answer, build the same dataframe from a string\n",
    "# -----------------------------------------------------------------\n",
    "csv_string = \"\"\"\n",
    ",fleurs,librispeech,librispeech,local,librispeech,fleurs,fleurs,librispeech,local,local,librispeech,fleurs,local,local,local,fleurs,fleurs,fleurs,librispeech,local,fleurs,librispeech,local,librispeech\n",
    ",whisper-large-v3-turbo,distil-large-v3.5,whisper-medium,whisper-small,whisper-tiny,whisper-tiny,distil-large-v2,whisper-large-v3-turbo,whisper-medium,whisper-tiny,whisper-tiny.en,whisper-small,distil-large-v2,distil-large-v3.5,whisper-large-v3-turbo,whisper-medium,whisper-base,distil-large-v3.5,whisper-base,whisper-base,whisper-tiny.en,whisper-small,whisper-tiny.en,distil-large-v2\n",
    "avg_wer,0.08356889177964995,0.024446643843388752,0.03072005558291909,0.005547850208044381,0.07253816858398257,0.5613145113698402,1.0546057852231638,0.022562146276432694,0.005547850208044381,0.01752196024040684,0.05473794371941227,0.23335061329368859,0.005779010633379563,0.004160887656033285,0.004392048081368468,0.1336338940227705,0.43532237617356573,1.1177547628612767,0.0476727740515607,0.018816458622283865,6.806947491273759,0.039883660603947,0.012343966712898752,0.030930142184592356\n",
    "avg_rtf,2.219244496402161,2.04989776321228,4.733922230741783,2.0199120373451387,0.2684758152026557,0.23459298816372326,1.1646500481649753,4.065873750036877,6.532167476060236,0.32583741968774155,0.22269565235575306,1.198858983461642,3.491610296147592,3.4509039839923803,6.895355341622393,3.3768036887563526,0.44927424509536307,1.1671004491812578,0.516649753875142,0.6968263866591303,0.8537933680488805,1.57234371270924630.2512180120095673,2.100002633001271\n",
    "avg_cpu,2.219244496402161,2.04989776321228,4.733922230741783,2.0199120373451387,0.2684758152026557,0.23459298816372326,1.1646500481649753,4.065873750036877,6.532167476060236,0.32583741968774155,0.22269565235575306,1.198858983461642,3.491610296147592,3.4509039839923803,6.895355341622393,3.3768036887563526,0.44927424509536307,1.1671004491812578,0.516649753875142,0.6968263866591303,0.8537933680488805,1.5723437127092463,0.2512180120095673,2.100002633001271\n",
    "\"\"\"\n",
    "\n",
    "df_raw = pd.read_csv(StringIO(csv_string), header=None)\n",
    "# -----------------------------------------------------------------\n",
    "# 3.1  Separate the two header rows from the data\n",
    "# -----------------------------------------------------------------\n",
    "header_rows = df_raw.iloc[:2]          # rows 0 and 1 → our header information\n",
    "data_rows   = df_raw.iloc[2:]          # everything from row 2 onward → real numbers\n",
    "\n",
    "# -----------------------------------------------------------------\n",
    "# 3.2  The first column of the CSV is just the index (empty for the\n",
    "#      header rows, “avg_wer”, “avg_rtf”, … for the data rows).\n",
    "#      Pull it out so it becomes a proper index for the final df.\n",
    "# -----------------------------------------------------------------\n",
    "data_rows = data_rows.set_index(0)     # turn column 0 into the index\n",
    "data_rows.index.name = None           # clean up the name (optional)\n",
    "\n",
    "# -----------------------------------------------------------------\n",
    "# 3.3  Build *level‑0* (dataset) and *level‑1* (model) tuples.\n",
    "#      The CSV contains blanks for repeated dataset names, so we\n",
    "#      forward‑fill them first.\n",
    "# -----------------------------------------------------------------\n",
    "lvl0 = header_rows.iloc[0].ffill().tolist()   # ['fleurs', 'librispeech', ...]\n",
    "lvl1 = header_rows.iloc[1].tolist()           # ['whisper‑large‑v3‑turbo', ...]\n",
    "\n",
    "# Turn the two rows into a list of (lvl0, lvl1) tuples\n",
    "col_tuples = list(zip(lvl0, lvl1))\n",
    "print(col_tuples[1:])\n",
    "\n",
    "# -----------------------------------------------------------------\n",
    "# 3.4  Apply the MultiIndex to the *data* dataframe\n",
    "# -----------------------------------------------------------------\n",
    "data_rows.columns = pd.MultiIndex.from_tuples(col_tuples)\n",
    "\n",
    "# -----------------------------------------------------------------\n",
    "# 3.5  Quick sanity‑check – print the resulting df\n",
    "# -----------------------------------------------------------------\n",
    "print(\"\\n=== DataFrame with a proper MultiIndex header ===\")\n",
    "print(data_rows.head())"
   ]
  }
 ],
 "metadata": {
  "kernelspec": {
   "display_name": "venv (3.11.7)",
   "language": "python",
   "name": "python3"
  },
  "language_info": {
   "codemirror_mode": {
    "name": "ipython",
    "version": 3
   },
   "file_extension": ".py",
   "mimetype": "text/x-python",
   "name": "python",
   "nbconvert_exporter": "python",
   "pygments_lexer": "ipython3",
   "version": "3.11.7"
  }
 },
 "nbformat": 4,
 "nbformat_minor": 5
}
